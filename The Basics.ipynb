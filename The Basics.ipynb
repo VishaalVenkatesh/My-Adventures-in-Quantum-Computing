{
  "cells": [
    {
      "cell_type": "code",
      "execution_count": 1,
      "metadata": {
        "trusted": true
      },
      "outputs": [],
      "source": "%matplotlib inline\n# Importing standard Qiskit libraries and configuring account\nfrom qiskit import QuantumCircuit, execute, Aer, IBMQ\nfrom qiskit.compiler import transpile, assemble\nfrom qiskit.tools.jupyter import *\nfrom qiskit.visualization import *\n# Loading your IBM Q account(s)\nprovider = IBMQ.load_account()"
    },
    {
      "cell_type": "code",
      "execution_count": 2,
      "metadata": {
        "trusted": true
      },
      "outputs": [],
      "source": "from qiskit import * \nfrom qiskit import IBMQ\n%matplotlib inline"
    },
    {
      "cell_type": "code",
      "execution_count": 3,
      "metadata": {
        "trusted": true
      },
      "outputs": [
        {
          "name": "stderr",
          "output_type": "stream",
          "text": "/opt/conda/lib/python3.7/site-packages/qiskit/providers/ibmq/ibmqfactory.py:181: UserWarning: Credentials are already in use. The existing account in the session will be replaced.\n  warnings.warn('Credentials are already in use. The existing '\n"
        },
        {
          "data": {
            "text/plain": "<AccountProvider for IBMQ(hub='ibm-q', group='open', project='main')>"
          },
          "execution_count": 3,
          "metadata": {},
          "output_type": "execute_result"
        }
      ],
      "source": "#Make sure if account is liked to API to use IBMs QC\nIBMQ.load_account()"
    },
    {
      "cell_type": "code",
      "execution_count": 4,
      "metadata": {
        "trusted": true
      },
      "outputs": [],
      "source": "#Create a quantum and classical register. Registers are a collection of qubits or bits\nqr = QuantumRegister(2)\ncr = ClassicalRegister(2)"
    },
    {
      "cell_type": "code",
      "execution_count": 5,
      "metadata": {
        "trusted": true
      },
      "outputs": [],
      "source": "#Create a quantum circuit\ncircuit = QuantumCircuit(qr, cr)"
    },
    {
      "cell_type": "code",
      "execution_count": 6,
      "metadata": {
        "trusted": true
      },
      "outputs": [
        {
          "data": {
            "image/png": "[encoded data removed]",
            "text/plain": "<Figure size 227.556x204.68 with 1 Axes>"
          },
          "execution_count": 6,
          "metadata": {},
          "output_type": "execute_result"
        }
      ],
      "source": "#Apply the Hadamard Gate to the first qubit. Hadamard gate has capacity to transform a definite quantum state, such as spin-up, into a murky one, such as a superposition of both. spin-up and spin-down at the same time.\n\ncircuit.h(qr[0])\ncircuit.draw(output = 'mpl')"
    },
    {
      "cell_type": "code",
      "execution_count": 7,
      "metadata": {
        "trusted": true
      },
      "outputs": [
        {
          "data": {
            "image/png": "[encoded data removed]",
            "text/plain": "<Figure size 287.756x204.68 with 1 Axes>"
          },
          "execution_count": 7,
          "metadata": {},
          "output_type": "execute_result"
        }
      ],
      "source": "# This is like a logical if in quantum. If then then that. q[1] is the 'target qbit of this operation'.\n#By adding Hadamard gate and controlled x we have entangled both the qbits.\ncircuit.cx(qr[0], qr[1])\ncircuit.draw(output = 'mpl')"
    },
    {
      "cell_type": "code",
      "execution_count": 8,
      "metadata": {
        "scrolled": true,
        "trusted": true
      },
      "outputs": [
        {
          "data": {
            "text/plain": "<qiskit.circuit.instructionset.InstructionSet at 0x7f8f150ff470>"
          },
          "execution_count": 8,
          "metadata": {},
          "output_type": "execute_result"
        }
      ],
      "source": "#Measure qbits and store them in the classical register\ncircuit.measure(qr,cr)"
    },
    {
      "cell_type": "code",
      "execution_count": 9,
      "metadata": {
        "trusted": true
      },
      "outputs": [
        {
          "data": {
            "image/png": "[encoded data removed]",
            "text/plain": "<Figure size 408.156x204.68 with 1 Axes>"
          },
          "execution_count": 9,
          "metadata": {},
          "output_type": "execute_result"
        }
      ],
      "source": "circuit.draw(output = 'mpl')"
    },
    {
      "cell_type": "code",
      "execution_count": 10,
      "metadata": {
        "trusted": true
      },
      "outputs": [],
      "source": "#Run quantum computer in my classical computer and see what happens. We import simulator from Aer. qasm stands for Quantum Assembly Language.\nsimulator = Aer.get_backend('qasm_simulator')"
    },
    {
      "cell_type": "code",
      "execution_count": 11,
      "metadata": {
        "trusted": true
      },
      "outputs": [
        {
          "data": {
            "text/plain": "<qiskit.providers.aer.aerjob.AerJob at 0x7f8f15050dd8>"
          },
          "execution_count": 11,
          "metadata": {},
          "output_type": "execute_result"
        }
      ],
      "source": "#Run circuit in quantum simulator (on a classical computer)\nexecute(circuit, backend = simulator)"
    },
    {
      "cell_type": "code",
      "execution_count": 12,
      "metadata": {
        "trusted": true
      },
      "outputs": [],
      "source": "result_c = execute(circuit, backend = simulator).result()"
    },
    {
      "cell_type": "code",
      "execution_count": 13,
      "metadata": {
        "trusted": true
      },
      "outputs": [],
      "source": "#We need to import the following to visualize\nfrom qiskit.tools.visualization import plot_histogram"
    },
    {
      "cell_type": "code",
      "execution_count": 14,
      "metadata": {
        "trusted": true
      },
      "outputs": [
        {
          "data": {
            "image/png": "[encoded data removed]",
            "text/plain": "<Figure size 504x360 with 1 Axes>"
          },
          "execution_count": 14,
          "metadata": {},
          "output_type": "execute_result"
        }
      ],
      "source": "plot_histogram(result_c.get_counts(circuit))"
    },
    {
      "cell_type": "code",
      "execution_count": 15,
      "metadata": {
        "trusted": true
      },
      "outputs": [],
      "source": "#Run circuit on IBM Quantum Computer to see if results add up. First set provider of QC\nprovider = IBMQ.get_provider('ibm-q')"
    },
    {
      "cell_type": "code",
      "execution_count": 16,
      "metadata": {
        "trusted": true
      },
      "outputs": [],
      "source": "#Now give name of QC\nqcomp = provider.get_backend('ibmq_london')"
    },
    {
      "cell_type": "code",
      "execution_count": 17,
      "metadata": {
        "trusted": true
      },
      "outputs": [],
      "source": "job = execute(circuit, backend = qcomp)"
    },
    {
      "cell_type": "code",
      "execution_count": 18,
      "metadata": {
        "trusted": true
      },
      "outputs": [
        {
          "name": "stdout",
          "output_type": "stream",
          "text": "Job Status: job has successfully run\n"
        }
      ],
      "source": "#Because IBM QC  is a public computer, we need to see our queue status.\nfrom qiskit.tools.monitor import job_monitor\njob_monitor(job)"
    },
    {
      "cell_type": "code",
      "execution_count": 19,
      "metadata": {
        "trusted": true
      },
      "outputs": [],
      "source": "result_q = job.result()"
    },
    {
      "cell_type": "code",
      "execution_count": 20,
      "metadata": {
        "trusted": true
      },
      "outputs": [
        {
          "data": {
            "image/png": "[encoded data removed]",
            "text/plain": "<Figure size 504x360 with 1 Axes>"
          },
          "execution_count": 20,
          "metadata": {},
          "output_type": "execute_result"
        }
      ],
      "source": "#We see a small chance of 01 and 10 due quantum errors. The simulator above simulates a perfect QC. But and actual quantum number suffers from noise. Research is being done to minimise the noise/errors.. \nplot_histogram(result_q.get_counts(circuit))"
    },
    {
      "cell_type": "code",
      "execution_count": null,
      "metadata": {
        "trusted": true
      },
      "outputs": [],
      "source": ""
    }
  ],
  "metadata": {
    "kernelspec": {
      "display_name": "Python 3",
      "language": "python",
      "name": "python3"
    },
    "language_info": {
      "codemirror_mode": {
        "name": "ipython",
        "version": 3
      },
      "file_extension": ".py",
      "mimetype": "text/x-python",
      "name": "python",
      "nbconvert_exporter": "python",
      "pygments_lexer": "ipython3",
      "version": "3.7.3"
    }
  },
  "nbformat": 4,
  "nbformat_minor": 2
}